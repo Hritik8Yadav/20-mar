{
 "cells": [
  {
   "cell_type": "code",
   "execution_count": null,
   "id": "33eac380-a88f-4e6b-94d8-09de1a7b6398",
   "metadata": {},
   "outputs": [],
   "source": [
    "'''Ans1: The data encoding include the tranfomation of data from one type to another according to the requirements\n",
    "         for example in in case of machine learning the categorical data is converted in to the algorithm recognizable\n",
    "         data.\n",
    "         \n",
    "         In data science some features are not recognizable by the model because the model can only understand the machine\n",
    "         language i.e. why the model need homogeneous data so that it can be recognized by equally and the model will not \n",
    "         become biased.\n",
    "         \n",
    "         \n",
    "'''"
   ]
  },
  {
   "cell_type": "code",
   "execution_count": null,
   "id": "1a6f7829-e520-460e-aad6-22f41afd6025",
   "metadata": {},
   "outputs": [],
   "source": [
    "'''Ans2: The nominal encoding is the encoding technique which involves the encoding of categorical variable into\n",
    "         the numerical values. This make the feature understandable by the model. \n",
    "         \n",
    "         for example In a database the some values of feature in categorical and we can't directly give these \n",
    "         values to the model while training because the values is not understandable by the model so we use nominal\n",
    "         encoding for these features. like fo the sport type can be encoded as {cricket : 1, Badminton : 2, football : 3}\n",
    "         \n",
    "    \n",
    "'''"
   ]
  },
  {
   "cell_type": "code",
   "execution_count": null,
   "id": "66b0718e-feb2-4845-9c28-47fb31e822cd",
   "metadata": {},
   "outputs": [],
   "source": [
    "'''Ans3: The nominal encoding is preffered over the one-hot encoding when:\n",
    "            \n",
    "            i. The number of distinct data in a feature is very large due to which the spare matrix become very\n",
    "               large and it is not optimal to use one-hot encoding.\n",
    "            \n",
    "            ii. The nominal encoding have natural order and it doesn't make the order distorted while the one-hot\n",
    "                encoding treat all the data as same.\n",
    "'''"
   ]
  },
  {
   "cell_type": "code",
   "execution_count": null,
   "id": "a3f182f2-8a35-4e6b-a7bc-4ff236b36214",
   "metadata": {},
   "outputs": [],
   "source": [
    "'''Ans4: I will use the one-hot encoding technique because the given situation the number of distinct variable \n",
    "         is very less and due to this the spare matrix will be small due to this it will create a meaningful \n",
    "         data for the feature.\n",
    "'''"
   ]
  },
  {
   "cell_type": "code",
   "execution_count": null,
   "id": "b873f12d-1f4f-4954-a1e7-0d496d206407",
   "metadata": {},
   "outputs": [],
   "source": [
    "'''Ans5: Given: \n",
    "        Number of total column = 5\n",
    "        Number of column with numerical variable = 3\n",
    "        Number of catergorical column = 5-3 = 2\n",
    "        \n",
    "        for one column number of column = 1000\n",
    "        for 2 column number of column = 2 x 1000 = 2000\n",
    "'''"
   ]
  },
  {
   "cell_type": "code",
   "execution_count": null,
   "id": "4829c49b-def0-43e4-9659-ee4120baa699",
   "metadata": {},
   "outputs": [],
   "source": [
    "'''Ans6: For the dataset with the ranking and containing the different type of animals, species, habitat and thier diet the nominal\n",
    "         encoding can be used because the nominal encoding will give the numerical value to each of the data in \n",
    "         each feature and this will help the model to categorise the values easily. \n",
    "         \n",
    "         while the one-hot encoding will be helpful if the ranking is not important and a seperate column will be \n",
    "         made for each distinct data in a feature.\n",
    "'''"
   ]
  },
  {
   "cell_type": "code",
   "execution_count": null,
   "id": "5ecdb262-79c1-4e6b-9b73-f27d18737a18",
   "metadata": {},
   "outputs": [],
   "source": [
    "'''Ans7: In the given situation the 5 features are given as:\n",
    "            \n",
    "            customer gender, age, contract type, company charges, monthly charges, tenure \n",
    "            \n",
    "        out of these only customer gender and contract type are the two features having categorical feature so\n",
    "        We will use the one-hot encoding technique for the example. Then we will iterate through each of the values\n",
    "        in the 2 features.\n",
    "        \n",
    "        Every time any new data is found in the categorical feature the new column is created. this will create the\n",
    "        column for each category then we will assign the values to each of those column as 0 and 1.\n",
    "        \n",
    "        The column is assign 0 if the data is no same  in the any of two feature as of column.\n",
    "        The column is assign 1 if the data is sameain the any of two feature as of column.\n",
    "'''"
   ]
  }
 ],
 "metadata": {
  "kernelspec": {
   "display_name": "Python 3 (ipykernel)",
   "language": "python",
   "name": "python3"
  },
  "language_info": {
   "codemirror_mode": {
    "name": "ipython",
    "version": 3
   },
   "file_extension": ".py",
   "mimetype": "text/x-python",
   "name": "python",
   "nbconvert_exporter": "python",
   "pygments_lexer": "ipython3",
   "version": "3.10.8"
  }
 },
 "nbformat": 4,
 "nbformat_minor": 5
}
